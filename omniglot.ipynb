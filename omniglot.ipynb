{
 "cells": [
  {
   "cell_type": "code",
   "execution_count": 1,
   "metadata": {},
   "outputs": [
    {
     "data": {
      "text/plain": [
       "'\\n!pip install Augmentor\\n!pip install pillow\\n!pip install pandas\\n!pip install matplotlib\\n!pip install numpy\\n!pip install keras\\n!unzip ./python/images_background.zip\\n!unzip ./python/images_background_small1.zip\\n!unzip ./python/images_background_small2.zip\\n!unzip ./python/images_evaluation.zip\\n'"
      ]
     },
     "execution_count": 1,
     "metadata": {},
     "output_type": "execute_result"
    }
   ],
   "source": [
    "\"\"\"\n",
    "!pip install Augmentor\n",
    "!pip install pillow\n",
    "!pip install pandas\n",
    "!pip install matplotlib\n",
    "!pip install numpy\n",
    "!pip install keras\n",
    "!unzip ./python/images_background.zip\n",
    "!unzip ./python/images_background_small1.zip\n",
    "!unzip ./python/images_background_small2.zip\n",
    "!unzip ./python/images_evaluation.zip\n",
    "\"\"\""
   ]
  },
  {
   "cell_type": "code",
   "execution_count": 20,
   "metadata": {},
   "outputs": [],
   "source": [
    "import numpy as np\n",
    "import os\n",
    "import matplotlib.pyplot as plt\n",
    "from load_data import load_directory, train_gen, val_gen, quiz\n",
    "from capsulenet import CapsNet, margin_loss\n",
    "from capsulelayers import CapsuleLayer, PrimaryCap, Length, Mask\n",
    "from keras.layers import Input, Conv2D, MaxPooling2D, BatchNormalization, Dropout, Dense, Reshape, Add, Flatten\n",
    "from keras.models import Model, Sequential, load_model\n",
    "from keras.callbacks import ModelCheckpoint"
   ]
  },
  {
   "cell_type": "code",
   "execution_count": 5,
   "metadata": {},
   "outputs": [],
   "source": [
    "batch_size = 20\n",
    "directory = './images_evaluation/Angelic/'\n",
    "train, test, labels = load_directory(directory)\n",
    "tg = train_gen(train, labels, batch_size=batch_size)\n",
    "vg = val_gen(test, labels)"
   ]
  },
  {
   "cell_type": "code",
   "execution_count": 8,
   "metadata": {},
   "outputs": [],
   "source": [
    "input_shape = (105, 105, 1)\n",
    "n_class = len(labels)\n",
    "routings = 3\n",
    "reconstruction_loss = .392"
   ]
  },
  {
   "cell_type": "code",
   "execution_count": null,
   "metadata": {},
   "outputs": [],
   "source": [
    "x = Input(shape=input_shape)\n",
    "\n",
    "# Layer 1: Just a conventional Conv2D layer\n",
    "conv1 = Conv2D(filters=128, kernel_size=9, strides=2, padding='valid', activation='relu', name='conv1')(x)\n",
    "conv2 = Conv2D(filters=256, kernel_size=5, strides=2, padding='valid', activation='relu', name='conv2')(conv1)\n",
    "conv2._keras_shape\n",
    "\n",
    "# Layer 2: Conv2D layer with `squash` activation, then reshape to [None, num_capsule, dim_capsule]\n",
    "primarycaps = PrimaryCap(conv1, dim_capsule=8, n_channels=32, kernel_size=9, strides=2, padding='valid')\n",
    "\n",
    "# Layer 3: Capsule layer. Routing algorithm works here.\n",
    "digitcaps = CapsuleLayer(num_capsule=n_class, dim_capsule=16, routings=routings,\n",
    "                         name='digitcaps')(primarycaps)\n",
    "\n",
    "# Layer 4: This is an auxiliary layer to replace each capsule with its length. Just to match the true label's shape.\n",
    "# If using tensorflow, this will not be necessary. :)\n",
    "out_caps = Length(name='capsnet')(digitcaps)\n",
    "\n",
    "# Decoder network.\n",
    "y = Input(shape=(n_class,))\n",
    "masked_by_y = Mask()([digitcaps, y])  # The true label is used to mask the output of capsule layer. For training\n",
    "masked = Mask()(digitcaps)  # Mask using the capsule with maximal length. For prediction\n",
    "\n",
    "# Shared Decoder model in training and prediction\n",
    "decoder = Sequential(name='decoder')\n",
    "decoder.add(Dense(512, activation='relu', input_dim=16*n_class))\n",
    "decoder.add(Dense(1024, activation='relu'))\n",
    "decoder.add(Dense(np.prod(input_shape), activation='sigmoid'))\n",
    "decoder.add(Reshape(target_shape=input_shape, name='out_recon'))\n",
    "\n",
    "# Models for training and evaluation (prediction)\n",
    "train_model = Model([x, y], [out_caps, decoder(masked_by_y)])\n",
    "eval_model = Model(x, [out_caps, decoder(masked)])\n",
    "\n",
    "# manipulate model\n",
    "noise = Input(shape=(n_class, 16))\n",
    "noised_digitcaps = Add()([digitcaps, noise])\n",
    "masked_noised_y = Mask()([noised_digitcaps, y])\n",
    "manipulate_model = Model([x, y, noise], decoder(masked_noised_y))\n",
    "#train_model, eval_model, manipulate_model\n",
    "\n",
    "train_model.compile(optimizer='adam',\n",
    "              loss=[margin_loss, 'mse'],\n",
    "              loss_weights=[1., reconstruction_loss],\n",
    "              metrics={'capsnet': 'accuracy'})\n",
    "\n",
    "train_model.summary()"
   ]
  },
  {
   "cell_type": "code",
   "execution_count": null,
   "metadata": {},
   "outputs": [],
   "source": [
    "\"\"\"\n",
    "def caps_tg(gen=tg):\n",
    "    X, Y = next(gen)\n",
    "    yield ([X, Y], [Y, X])\n",
    "\n",
    "ctg = caps_tg(tg)\n",
    "\n",
    "def caps_vg(gen=vg):\n",
    "    X, Y = next(gen)\n",
    "    yield ([X, Y], [Y, X])\n",
    "\n",
    "cvg = caps_vg(vg)\n",
    "\n",
    "history = train_model.fit_generator(\n",
    "    ctg,\n",
    "    epochs=10,\n",
    "    steps_per_epoch=10,\n",
    "    validation_data=cvg,\n",
    "    validation_steps=len(test)//batch_size\n",
    ")\n",
    "\"\"\""
   ]
  },
  {
   "cell_type": "code",
   "execution_count": 9,
   "metadata": {},
   "outputs": [
    {
     "name": "stdout",
     "output_type": "stream",
     "text": [
      "_________________________________________________________________\n",
      "Layer (type)                 Output Shape              Param #   \n",
      "=================================================================\n",
      "input_1 (InputLayer)         (None, 105, 105, 1)       0         \n",
      "_________________________________________________________________\n",
      "conv1 (Conv2D)               (None, 97, 97, 2)         164       \n",
      "_________________________________________________________________\n",
      "conv2 (Conv2D)               (None, 93, 93, 4)         204       \n",
      "_________________________________________________________________\n",
      "maxp1 (MaxPooling2D)         (None, 46, 46, 4)         0         \n",
      "_________________________________________________________________\n",
      "conv3 (Conv2D)               (None, 45, 45, 4)         68        \n",
      "_________________________________________________________________\n",
      "conv4 (Conv2D)               (None, 44, 44, 8)         136       \n",
      "_________________________________________________________________\n",
      "maxp2 (MaxPooling2D)         (None, 22, 22, 8)         0         \n",
      "_________________________________________________________________\n",
      "conv5 (Conv2D)               (None, 21, 21, 8)         264       \n",
      "_________________________________________________________________\n",
      "conv6 (Conv2D)               (None, 20, 20, 16)        528       \n",
      "_________________________________________________________________\n",
      "maxp3 (MaxPooling2D)         (None, 10, 10, 16)        0         \n",
      "_________________________________________________________________\n",
      "conv7 (Conv2D)               (None, 9, 9, 16)          1040      \n",
      "_________________________________________________________________\n",
      "conv8 (Conv2D)               (None, 8, 8, 32)          2080      \n",
      "_________________________________________________________________\n",
      "maxp4 (MaxPooling2D)         (None, 4, 4, 32)          0         \n",
      "_________________________________________________________________\n",
      "conv9 (Conv2D)               (None, 3, 3, 32)          4128      \n",
      "_________________________________________________________________\n",
      "conv10 (Conv2D)              (None, 2, 2, 64)          8256      \n",
      "_________________________________________________________________\n",
      "conv11 (Conv2D)              (None, 1, 1, 74)          19018     \n",
      "_________________________________________________________________\n",
      "flatten_1 (Flatten)          (None, 74)                0         \n",
      "_________________________________________________________________\n",
      "dropout_1 (Dropout)          (None, 74)                0         \n",
      "_________________________________________________________________\n",
      "dense_1 (Dense)              (None, 128)               9600      \n",
      "_________________________________________________________________\n",
      "dropout_2 (Dropout)          (None, 128)               0         \n",
      "_________________________________________________________________\n",
      "dense_2 (Dense)              (None, 32)                4128      \n",
      "_________________________________________________________________\n",
      "dropout_3 (Dropout)          (None, 32)                0         \n",
      "_________________________________________________________________\n",
      "dense_3 (Dense)              (None, 16)                528       \n",
      "_________________________________________________________________\n",
      "dropout_4 (Dropout)          (None, 16)                0         \n",
      "_________________________________________________________________\n",
      "dense_4 (Dense)              (None, 20)                340       \n",
      "=================================================================\n",
      "Total params: 50,482\n",
      "Trainable params: 50,482\n",
      "Non-trainable params: 0\n",
      "_________________________________________________________________\n"
     ]
    }
   ],
   "source": [
    "#Classic convolution model\n",
    "width=2\n",
    "inputs = Input(shape=input_shape)\n",
    "x = Conv2D(filters=1*width, kernel_size=9, padding='valid', activation='relu', name='conv1')(inputs)\n",
    "x = Conv2D(filters=2*width, kernel_size=5, padding='valid', activation='relu', name='conv2')(x)\n",
    "x = MaxPooling2D((2,2), name='maxp1')(x)\n",
    "x = Conv2D(filters=2*width, kernel_size=2, padding='valid', activation='relu', name='conv3')(x)\n",
    "x = Conv2D(filters=4*width, kernel_size=2, padding='valid', activation='relu', name='conv4')(x)\n",
    "x = MaxPooling2D((2,2), name='maxp2')(x)\n",
    "x = Conv2D(filters=4*width, kernel_size=2, padding='valid', activation='relu', name='conv5')(x)\n",
    "x = Conv2D(filters=8*width, kernel_size=2, padding='valid', activation='relu', name='conv6')(x)\n",
    "x = MaxPooling2D((2,2), name='maxp3')(x)\n",
    "x = Conv2D(filters=8*width, kernel_size=2, padding='valid', activation='relu', name='conv7')(x)\n",
    "x = Conv2D(filters=16*width, kernel_size=2, padding='valid', activation='relu', name='conv8')(x)\n",
    "x = MaxPooling2D((2,2), name='maxp4')(x)\n",
    "x = Conv2D(filters=16*width, kernel_size=2, padding='valid', activation='relu', name='conv9')(x)\n",
    "x = Conv2D(filters=32*width, kernel_size=2, padding='valid', activation='relu', name='conv10')(x)\n",
    "x = Conv2D(filters=37*width, kernel_size=2, padding='valid', activation='relu', name='conv11')(x)\n",
    "x = Flatten()(x)\n",
    "x = Dropout(.5)(x)\n",
    "x = Dense(64*width, activation='relu')(x)\n",
    "x = Dropout(.5)(x)\n",
    "x = Dense(16*width, activation='relu')(x)\n",
    "x = Dropout(.5)(x)\n",
    "x = Dense(8*width, activation='relu')(x)\n",
    "x = Dropout(.5)(x)\n",
    "x = Dense(n_class, activation='softmax')(x)\n",
    "\n",
    "\n",
    "model = Model(inputs=inputs, outputs=x)\n",
    "model.summary()"
   ]
  },
  {
   "cell_type": "code",
   "execution_count": 10,
   "metadata": {},
   "outputs": [],
   "source": [
    "model.compile(\n",
    "    loss='categorical_crossentropy',\n",
    "    optimizer='adam',\n",
    "    metrics=['accuracy']\n",
    ")"
   ]
  },
  {
   "cell_type": "code",
   "execution_count": 17,
   "metadata": {},
   "outputs": [],
   "source": [
    "def train_model(model, train_generator, val_generator, directory):\n",
    "    \"\"\"Trains models for 100 epochs. Saves best validation accuracy,\n",
    "    best validation loss, and final \"overfit\" model, into:\n",
    "    ./models/ + directory + 'best_acc.h5', 'best_loss.h5',\n",
    "    'overfit.h5'\n",
    "    \"\"\"\n",
    "    save_path = './models' + directory[1:]\n",
    "    os.system('mkdir {}'.format('/'.join(save_path.split('/')[:3])))\n",
    "    os.system('mkdir {}'.format('/'.join(save_path.split('/')[:4])))\n",
    "    callbacks = []\n",
    "    acc_ = ModelCheckpoint(save_path + 'best_acc.h5', monitor='val_acc', save_best_only=True, verbose=False)\n",
    "    callbacks.append(acc_)\n",
    "    loss_ = ModelCheckpoint(save_path + 'best_loss.h5', monitor='val_loss', save_best_only=True, verbose=False)\n",
    "    callbacks.append(loss_)\n",
    "    history = model.fit_generator(\n",
    "        train_generator,\n",
    "        steps_per_epoch = 2,\n",
    "        epochs=100,\n",
    "        validation_data = val_generator,\n",
    "        validation_steps = 1,\n",
    "        callbacks = callbacks, \n",
    "        verbose=False\n",
    "    )\n",
    "    return history\n",
    "\n",
    "history = train_model(model, tg, vg, directory)"
   ]
  },
  {
   "cell_type": "code",
   "execution_count": 22,
   "metadata": {},
   "outputs": [
    {
     "data": {
      "image/png": "[encoded data removed]",
      "text/plain": [
       "<Figure size 432x288 with 1 Axes>"
      ]
     },
     "metadata": {},
     "output_type": "display_data"
    },
    {
     "data": {
      "image/png": "[encoded data removed]",
      "text/plain": [
       "<Figure size 432x288 with 1 Axes>"
      ]
     },
     "metadata": {},
     "output_type": "display_data"
    }
   ],
   "source": [
    "def plot_history(history, model_name='model'):\n",
    "    \"\"\"Takes a history object and makes some plots.\"\"\"\n",
    "    plt.plot(history.history['acc']);\n",
    "    plt.plot(history.history['val_acc']);\n",
    "    plt.title('{} accuracy'.format(model_name));\n",
    "    plt.ylabel('accuracy');\n",
    "    plt.xlabel('epoch');\n",
    "    plt.legend(['train', 'test'], loc='upper left');\n",
    "    plt.show();\n",
    "\n",
    "    plt.plot(history.history['loss']);\n",
    "    plt.plot(history.history['val_loss']);\n",
    "    plt.title('{} loss'.format(model_name));\n",
    "    plt.ylabel('loss');\n",
    "    plt.xlabel('epoch');\n",
    "    plt.legend(['train', 'test'], loc='upper left');\n",
    "    plt.show();\n",
    "    return\n",
    "    \n",
    "plot_history(history)"
   ]
  },
  {
   "cell_type": "code",
   "execution_count": 25,
   "metadata": {},
   "outputs": [
    {
     "name": "stdout",
     "output_type": "stream",
     "text": [
      "Quiz results: 19 out of 380 correct.\n",
      "Quiz accuracy score: 0.05. Error rate: 0.95\n",
      "Classification results: 18 out of 380 correct.\n",
      "Classification accuracy score: 0.047. Error rate: 0.953\n"
     ]
    }
   ],
   "source": [
    "results = quiz(model, test, labels)"
   ]
  },
  {
   "cell_type": "code",
   "execution_count": null,
   "metadata": {},
   "outputs": [],
   "source": []
  }
 ],
 "metadata": {
  "kernelspec": {
   "display_name": "Python [conda env:dev1]",
   "language": "python",
   "name": "conda-env-dev1-py"
  },
  "language_info": {
   "codemirror_mode": {
    "name": "ipython",
    "version": 3
   },
   "file_extension": ".py",
   "mimetype": "text/x-python",
   "name": "python",
   "nbconvert_exporter": "python",
   "pygments_lexer": "ipython3",
   "version": "3.6.4"
  }
 },
 "nbformat": 4,
 "nbformat_minor": 2
}
