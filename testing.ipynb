{
 "cells": [
  {
   "cell_type": "code",
   "execution_count": 1,
   "metadata": {},
   "outputs": [
    {
     "data": {
      "text/plain": [
       "'\\n!pip install Augmentor\\n!pip install pillow\\n!pip install pandas\\n!pip install matplotlib\\n!pip install numpy\\n!pip install keras\\n!unzip ./python/images_background.zip\\n!unzip ./python/images_background_small1.zip\\n!unzip ./python/images_background_small2.zip\\n!unzip ./python/images_evaluation.zip\\n'"
      ]
     },
     "execution_count": 1,
     "metadata": {},
     "output_type": "execute_result"
    }
   ],
   "source": [
    "\"\"\"\n",
    "!pip install Augmentor\n",
    "!pip install pillow\n",
    "!pip install pandas\n",
    "!pip install matplotlib\n",
    "!pip install numpy\n",
    "!pip install keras\n",
    "!unzip ./python/images_background.zip\n",
    "!unzip ./python/images_background_small1.zip\n",
    "!unzip ./python/images_background_small2.zip\n",
    "!unzip ./python/images_evaluation.zip\n",
    "\"\"\""
   ]
  },
  {
   "cell_type": "code",
   "execution_count": 2,
   "metadata": {},
   "outputs": [
    {
     "name": "stderr",
     "output_type": "stream",
     "text": [
      "/home/alliedtoasters/miniconda3/envs/dev1/lib/python3.6/site-packages/h5py/__init__.py:36: FutureWarning: Conversion of the second argument of issubdtype from `float` to `np.floating` is deprecated. In future, it will be treated as `np.float64 == np.dtype(float).type`.\n",
      "  from ._conv import register_converters as _register_converters\n",
      "Using TensorFlow backend.\n"
     ]
    }
   ],
   "source": [
    "import matplotlib.pyplot as plt\n",
    "import numpy as np\n",
    "from load_data import load_directory, train_gen, val_gen, quiz_models, LossTracker, image_from_index\n",
    "from build_models import make_convnet, make_capsnet, train_convnet, train_capsnet, plot_history\n",
    "from keras.models import load_model"
   ]
  },
  {
   "cell_type": "code",
   "execution_count": 3,
   "metadata": {},
   "outputs": [],
   "source": [
    "batch_size = 30\n",
    "directory = './images_evaluation/Atemayar_Qelisayer/'\n",
    "train, test, labels = load_directory(directory)\n",
    "loss_tracker = LossTracker()\n",
    "tg = train_gen(train, labels, batch_size=batch_size, augmentation=True, loss_obj=loss_tracker)\n",
    "vg = val_gen(test, labels, batch_size=380) #Use the entire validation set here."
   ]
  },
  {
   "cell_type": "code",
   "execution_count": 4,
   "metadata": {},
   "outputs": [],
   "source": [
    "def get_train_img(idx):\n",
    "    \"\"\"Shortcut to display training image.\"\"\"\n",
    "    path = './train/'\n",
    "    df = train\n",
    "    img = image_from_index(idx, df, path)\n",
    "    return img"
   ]
  },
  {
   "cell_type": "code",
   "execution_count": 5,
   "metadata": {},
   "outputs": [],
   "source": [
    "input_shape = (105, 105, 1)\n",
    "n_class = len(labels)\n",
    "routings = 3\n",
    "reconstruction_loss = .392"
   ]
  },
  {
   "cell_type": "code",
   "execution_count": 6,
   "metadata": {},
   "outputs": [
    {
     "name": "stdout",
     "output_type": "stream",
     "text": [
      "_________________________________________________________________\n",
      "Layer (type)                 Output Shape              Param #   \n",
      "=================================================================\n",
      "input_1 (InputLayer)         (None, 105, 105, 1)       0         \n",
      "_________________________________________________________________\n",
      "conv1 (Conv2D)               (None, 97, 97, 16)        1312      \n",
      "_________________________________________________________________\n",
      "conv2 (Conv2D)               (None, 93, 93, 32)        12832     \n",
      "_________________________________________________________________\n",
      "dropout_1 (Dropout)          (None, 93, 93, 32)        0         \n",
      "_________________________________________________________________\n",
      "maxp1 (MaxPooling2D)         (None, 46, 46, 32)        0         \n",
      "_________________________________________________________________\n",
      "conv3 (Conv2D)               (None, 45, 45, 32)        4128      \n",
      "_________________________________________________________________\n",
      "conv4 (Conv2D)               (None, 44, 44, 64)        8256      \n",
      "_________________________________________________________________\n",
      "dropout_2 (Dropout)          (None, 44, 44, 64)        0         \n",
      "_________________________________________________________________\n",
      "maxp2 (MaxPooling2D)         (None, 22, 22, 64)        0         \n",
      "_________________________________________________________________\n",
      "conv5 (Conv2D)               (None, 21, 21, 64)        16448     \n",
      "_________________________________________________________________\n",
      "conv6 (Conv2D)               (None, 20, 20, 128)       32896     \n",
      "_________________________________________________________________\n",
      "dropout_3 (Dropout)          (None, 20, 20, 128)       0         \n",
      "_________________________________________________________________\n",
      "maxp3 (MaxPooling2D)         (None, 10, 10, 128)       0         \n",
      "_________________________________________________________________\n",
      "conv7 (Conv2D)               (None, 9, 9, 128)         65664     \n",
      "_________________________________________________________________\n",
      "conv8 (Conv2D)               (None, 8, 8, 256)         131328    \n",
      "_________________________________________________________________\n",
      "dropout_4 (Dropout)          (None, 8, 8, 256)         0         \n",
      "_________________________________________________________________\n",
      "maxp4 (MaxPooling2D)         (None, 4, 4, 256)         0         \n",
      "_________________________________________________________________\n",
      "conv9 (Conv2D)               (None, 3, 3, 256)         262400    \n",
      "_________________________________________________________________\n",
      "conv10 (Conv2D)              (None, 2, 2, 512)         524800    \n",
      "_________________________________________________________________\n",
      "conv11 (Conv2D)              (None, 1, 1, 592)         1213008   \n",
      "_________________________________________________________________\n",
      "flatten_1 (Flatten)          (None, 592)               0         \n",
      "_________________________________________________________________\n",
      "dropout_5 (Dropout)          (None, 592)               0         \n",
      "_________________________________________________________________\n",
      "dense_1 (Dense)              (None, 1024)              607232    \n",
      "_________________________________________________________________\n",
      "dropout_6 (Dropout)          (None, 1024)              0         \n",
      "_________________________________________________________________\n",
      "dense_2 (Dense)              (None, 256)               262400    \n",
      "_________________________________________________________________\n",
      "dropout_7 (Dropout)          (None, 256)               0         \n",
      "_________________________________________________________________\n",
      "dense_3 (Dense)              (None, 128)               32896     \n",
      "_________________________________________________________________\n",
      "dropout_8 (Dropout)          (None, 128)               0         \n",
      "_________________________________________________________________\n",
      "dense_4 (Dense)              (None, 26)                3354      \n",
      "=================================================================\n",
      "Total params: 3,178,954\n",
      "Trainable params: 3,178,954\n",
      "Non-trainable params: 0\n",
      "_________________________________________________________________\n"
     ]
    }
   ],
   "source": [
    "convnet = make_convnet(input_shape, n_class, width=16, dropout=.5)\n",
    "convnet.summary()"
   ]
  },
  {
   "cell_type": "code",
   "execution_count": null,
   "metadata": {},
   "outputs": [
    {
     "name": "stdout",
     "output_type": "stream",
     "text": [
      "Epoch 1/100\n",
      " 90/100 [==========================>...] - ETA: 54s - loss: 3.2607 - categorical_accuracy: 0.0344"
     ]
    }
   ],
   "source": [
    "history = train_convnet(convnet, tg, vg, directory, verbose=True, loss_obj=loss_tracker, epochs=100)"
   ]
  },
  {
   "cell_type": "code",
   "execution_count": null,
   "metadata": {},
   "outputs": [],
   "source": [
    "plot_history(history)"
   ]
  },
  {
   "cell_type": "code",
   "execution_count": null,
   "metadata": {},
   "outputs": [],
   "source": [
    "results1, results2, results3 = quiz_models(directory, test, labels)"
   ]
  },
  {
   "cell_type": "code",
   "execution_count": null,
   "metadata": {},
   "outputs": [],
   "source": [
    "from load_data import quiz_batch\n",
    "\n",
    "def visualize_quiz(X, Y, prediction, quiz_labels):\n",
    "    \"\"\"Visualizes the results of a 'quiz'.\n",
    "    for presentation.\n",
    "    \"\"\"\n",
    "    quiz_Y = Y[:, quiz_labels]\n",
    "    quiz_prediction = prediction[:, quiz_labels]\n",
    "    correct_answers = np.argmax(quiz_Y, axis=0)\n",
    "    predicted_answers = np.argmax(quiz_prediction, axis=0)\n",
    "    correct_idx = np.argwhere(correct_answers == predicted_answers)[0][0]\n",
    "    correct_class = quiz_labels[0]#predicted_answers[correct_idx]\n",
    "    #Correct answer example\n",
    "    train_img = get_train_img(correct_class)\n",
    "    fig, ax = plt.subplots(5, 5, figsize=(8, 8))\n",
    "    fig.suptitle('Correct Result')\n",
    "    current_label = 0\n",
    "    for i in range(5):\n",
    "        for j in range(5):\n",
    "            if i == 0:\n",
    "                if j == 2:\n",
    "                    ax[i, j].set_title('training image')\n",
    "                    ax[i, j].imshow(train_img, cmap='Greys_r')\n",
    "                    ax[i, j].set_xticks([])\n",
    "                    ax[i, j].set_yticks([])\n",
    "                else:\n",
    "                    ax[i, j].set_visible(False)\n",
    "            else:\n",
    "                #likelihood = quiz_Y[current_label, correct_idx]\n",
    "                lbl = np.argmax(quiz_Y[current_label, :])\n",
    "                img = X[current_label, :, :, 0]\n",
    "                #title = '{}'.format(str(likelihood))[:6]\n",
    "                #if quiz_Y[current_label, correct_idx] == 1:\n",
    "                #    title += ('(correct)')\n",
    "                title = 'label {}'.format(lbl)\n",
    "                ax[i, j].set_title(title)\n",
    "                ax[i, j].set_xticks([])\n",
    "                ax[i, j].set_yticks([])\n",
    "                ax[i, j].imshow(img, cmap='Greys_r')\n",
    "                current_label += 1\n",
    "    plt.show()\n",
    "    return\n",
    "    \n",
    "    \n",
    "\n",
    "def quiz(model, df, labels, path='./eval/', verbose=1, visualize=False):\n",
    "    \"\"\"Runs the 'quiz' used in the paper:\n",
    "    Given 20 choices, choose the character belonging\n",
    "    to the correct class.\n",
    "    Because this is a COMPUTER, we'll reframe the test:\n",
    "    1. Choose 20 characters, one from each class.\n",
    "    2. For each class label, assign the max value to that class.\n",
    "    3. Return classwise accuracy.\n",
    "    \"\"\"\n",
    "    visualized = False\n",
    "    correct = 0\n",
    "    total = 0\n",
    "    classified = 0\n",
    "    total_classified = 0\n",
    "    for n in range(2, 21):\n",
    "        test_no = str(n)\n",
    "        if len(test_no) == 1:\n",
    "            test_no = '0' + test_no\n",
    "        test_samples = df[['_' + test_no in x for x in df.file]].sample(20, replace=False)\n",
    "        quiz_labels = test_samples.label.values.astype(int)\n",
    "        X, Y = quiz_batch(test_samples.index, df=df, labels=labels)\n",
    "        quiz_Y = Y[:, quiz_labels]\n",
    "        prediction = model.predict(X)\n",
    "        quiz_prediction = prediction[:, quiz_labels]\n",
    "        correct_answers = np.argmax(quiz_Y, axis=0)\n",
    "        predicted_answers = np.argmax(quiz_prediction, axis=0)\n",
    "        num_correct = np.where(correct_answers == predicted_answers, 1, 0).sum()\n",
    "        if visualize and not visualized:\n",
    "            if 0 < num_correct < 20:\n",
    "                visualize_quiz(X, Y, prediction, quiz_labels)\n",
    "                visualized = True\n",
    "        correct += num_correct\n",
    "        total += len(correct_answers)\n",
    "        if verbose==2:\n",
    "            print(\n",
    "                'quiz no.', \n",
    "                test_no, \n",
    "                ' results: {}/{} correct.'.format(\n",
    "                    num_correct, \n",
    "                    len(correct_answers)\n",
    "                ))\n",
    "        correct_classifications = np.argmax(Y, axis=1)\n",
    "        classifications = np.argmax(prediction, axis=1)\n",
    "        num_classified = np.where(correct_classifications == classifications, 1, 0).sum()\n",
    "        classified += num_classified\n",
    "        total_classified += len(correct_classifications)\n",
    "        if verbose==2:\n",
    "            print(\n",
    "                'quiz no.', \n",
    "                test_no, \n",
    "                ' classification results: {}/{} correct.'.format(\n",
    "                    num_classified, \n",
    "                    len(correct_classifications)\n",
    "                ))\n",
    "    if verbose==1:\n",
    "        print('Quiz results: {} out of {} correct.'.format(correct, total))\n",
    "        print('Quiz accuracy score: {}. Error rate: {}'.format(\n",
    "            round(correct/total, 3), \n",
    "            round(1-correct/total, 3))\n",
    "             )\n",
    "        print('Classification results: {} out of {} correct.'.format(classified, total_classified))\n",
    "        print('Classification accuracy score: {}. Error rate: {}'.format(\n",
    "            round(classified/total_classified, 3), \n",
    "            round(1-classified/total_classified, 3))\n",
    "             )\n",
    "    return correct, total, classified, total_classified\n",
    "\n",
    "quiz(convnet, test, labels, visualize=True)"
   ]
  },
  {
   "cell_type": "code",
   "execution_count": null,
   "metadata": {},
   "outputs": [],
   "source": [
    "capsnet, eval_model, manipulate_model = make_capsnet(input_shape, n_class, routings, reconstruction_loss)"
   ]
  },
  {
   "cell_type": "code",
   "execution_count": null,
   "metadata": {},
   "outputs": [],
   "source": [
    "loss_tracker = LossTracker(scale_by=3)\n",
    "tg = train_gen(train, labels, batch_size=batch_size, augmentation=True, loss_obj=loss_tracker)\n",
    "vg = val_gen(test, labels, batch_size=batch_size)\n",
    "history = train_capsnet(capsnet, tg, vg, directory, verbose=True, loss_obj=loss_tracker)"
   ]
  },
  {
   "cell_type": "code",
   "execution_count": null,
   "metadata": {},
   "outputs": [],
   "source": [
    "results_caps1, results_caps2, results_caps3 = quiz_models(directory, test, labels, capsnet=True)"
   ]
  },
  {
   "cell_type": "code",
   "execution_count": null,
   "metadata": {},
   "outputs": [],
   "source": [
    "manipulate_model.set_weights(capsnet.get_weights())\n",
    "eval_model.set_weights(capsnet.get_weights())"
   ]
  },
  {
   "cell_type": "code",
   "execution_count": null,
   "metadata": {},
   "outputs": [],
   "source": [
    "test.loc[[5, 10, 12]].label"
   ]
  },
  {
   "cell_type": "code",
   "execution_count": null,
   "metadata": {},
   "outputs": [],
   "source": [
    "def plot_training_characters(train):\n",
    "    \"\"\"Plots the training characters for presentation\"\"\"\n",
    "    \n",
    "\n",
    "def plot_outputs(model, val_gen, test):\n",
    "    \"\"\"Looks at outputs of capsnet.\"\"\"\n",
    "    fig, ax = plt.subplots()\n",
    "    for i in range(20):\n",
    "        X, Y = next(val_gen)\n",
    "        Y_pred, reconstructed = model.predict(X)\n",
    "        img = X[0, :, :, 0]\n",
    "        plt.title('input character (label {})'.format(np.argmax(Y[0, :])));\n",
    "        plt.imshow(img, cmap='Greys_r');\n",
    "        plt.show();\n",
    "        plt.title('reconstructed character (predicted label {})'.format(np.argmax(Y_pred[0, :])));\n",
    "        plt.imshow(reconstructed[0, :, :, 0], cmap='Greys_r');\n",
    "        plt.show();\n",
    "    return\n",
    "\n",
    "plot_outputs(eval_model, vg, test)"
   ]
  },
  {
   "cell_type": "code",
   "execution_count": null,
   "metadata": {},
   "outputs": [],
   "source": [
    "eval_model.outputs"
   ]
  },
  {
   "cell_type": "code",
   "execution_count": null,
   "metadata": {},
   "outputs": [],
   "source": [
    "np.argmax(np.array([\n",
    "    [0, 0, 0],\n",
    "    [1, 1, 1]\n",
    "]), axis=0)"
   ]
  },
  {
   "cell_type": "code",
   "execution_count": null,
   "metadata": {},
   "outputs": [],
   "source": []
  }
 ],
 "metadata": {
  "kernelspec": {
   "display_name": "Python [conda env:dev1]",
   "language": "python",
   "name": "conda-env-dev1-py"
  },
  "language_info": {
   "codemirror_mode": {
    "name": "ipython",
    "version": 3
   },
   "file_extension": ".py",
   "mimetype": "text/x-python",
   "name": "python",
   "nbconvert_exporter": "python",
   "pygments_lexer": "ipython3",
   "version": "3.6.4"
  }
 },
 "nbformat": 4,
 "nbformat_minor": 2
}
