{
 "cells": [
  {
   "cell_type": "code",
   "execution_count": 1,
   "metadata": {},
   "outputs": [
    {
     "data": {
      "text/plain": [
       "'\\n!pip install Augmentor\\n!pip install pillow\\n!pip install pandas\\n!pip install matplotlib\\n!pip install numpy\\n!pip install keras\\n!unzip ./python/images_background.zip\\n!unzip ./python/images_background_small1.zip\\n!unzip ./python/images_background_small2.zip\\n!unzip ./python/images_evaluation.zip\\n'"
      ]
     },
     "execution_count": 1,
     "metadata": {},
     "output_type": "execute_result"
    }
   ],
   "source": [
    "\"\"\"\n",
    "!pip install Augmentor\n",
    "!pip install pillow\n",
    "!pip install pandas\n",
    "!pip install matplotlib\n",
    "!pip install numpy\n",
    "!pip install keras\n",
    "!unzip ./python/images_background.zip\n",
    "!unzip ./python/images_background_small1.zip\n",
    "!unzip ./python/images_background_small2.zip\n",
    "!unzip ./python/images_evaluation.zip\n",
    "\"\"\""
   ]
  },
  {
   "cell_type": "code",
   "execution_count": 2,
   "metadata": {},
   "outputs": [
    {
     "name": "stderr",
     "output_type": "stream",
     "text": [
      "/home/alliedtoasters/miniconda3/envs/dev1/lib/python3.6/site-packages/h5py/__init__.py:36: FutureWarning: Conversion of the second argument of issubdtype from `float` to `np.floating` is deprecated. In future, it will be treated as `np.float64 == np.dtype(float).type`.\n",
      "  from ._conv import register_converters as _register_converters\n",
      "Using TensorFlow backend.\n"
     ]
    }
   ],
   "source": [
    "import matplotlib.pyplot as plt\n",
    "import numpy as np\n",
    "from load_data import load_directory, train_gen, val_gen, quiz_models, LossTracker, image_from_index, quiz\n",
    "from build_models import make_convnet, make_capsnet, train_convnet, train_capsnet, plot_history\n",
    "from keras.models import load_model"
   ]
  },
  {
   "cell_type": "code",
   "execution_count": 3,
   "metadata": {},
   "outputs": [],
   "source": [
    "batch_size = 30\n",
    "directory = './images_evaluation/Atemayar_Qelisayer/'\n",
    "train, test, labels = load_directory(directory)\n",
    "loss_tracker = LossTracker()\n",
    "tg = train_gen(train, labels, batch_size=batch_size, augmentation=True, loss_obj=loss_tracker)\n",
    "vg = val_gen(test, labels, batch_size=380) #Use the entire validation set here."
   ]
  },
  {
   "cell_type": "code",
   "execution_count": 4,
   "metadata": {},
   "outputs": [],
   "source": [
    "input_shape = (105, 105, 1)\n",
    "n_class = len(labels)\n",
    "routings = 3\n",
    "reconstruction_loss = .392"
   ]
  },
  {
   "cell_type": "code",
   "execution_count": 5,
   "metadata": {},
   "outputs": [
    {
     "name": "stdout",
     "output_type": "stream",
     "text": [
      "_________________________________________________________________\n",
      "Layer (type)                 Output Shape              Param #   \n",
      "=================================================================\n",
      "input_1 (InputLayer)         (None, 105, 105, 1)       0         \n",
      "_________________________________________________________________\n",
      "conv1 (Conv2D)               (None, 97, 97, 8)         656       \n",
      "_________________________________________________________________\n",
      "conv2 (Conv2D)               (None, 93, 93, 16)        3216      \n",
      "_________________________________________________________________\n",
      "dropout_1 (Dropout)          (None, 93, 93, 16)        0         \n",
      "_________________________________________________________________\n",
      "maxp1 (MaxPooling2D)         (None, 46, 46, 16)        0         \n",
      "_________________________________________________________________\n",
      "conv3 (Conv2D)               (None, 45, 45, 16)        1040      \n",
      "_________________________________________________________________\n",
      "conv4 (Conv2D)               (None, 44, 44, 32)        2080      \n",
      "_________________________________________________________________\n",
      "dropout_2 (Dropout)          (None, 44, 44, 32)        0         \n",
      "_________________________________________________________________\n",
      "maxp2 (MaxPooling2D)         (None, 22, 22, 32)        0         \n",
      "_________________________________________________________________\n",
      "conv5 (Conv2D)               (None, 21, 21, 32)        4128      \n",
      "_________________________________________________________________\n",
      "conv6 (Conv2D)               (None, 20, 20, 64)        8256      \n",
      "_________________________________________________________________\n",
      "dropout_3 (Dropout)          (None, 20, 20, 64)        0         \n",
      "_________________________________________________________________\n",
      "maxp3 (MaxPooling2D)         (None, 10, 10, 64)        0         \n",
      "_________________________________________________________________\n",
      "conv7 (Conv2D)               (None, 9, 9, 64)          16448     \n",
      "_________________________________________________________________\n",
      "conv8 (Conv2D)               (None, 8, 8, 128)         32896     \n",
      "_________________________________________________________________\n",
      "dropout_4 (Dropout)          (None, 8, 8, 128)         0         \n",
      "_________________________________________________________________\n",
      "maxp4 (MaxPooling2D)         (None, 4, 4, 128)         0         \n",
      "_________________________________________________________________\n",
      "conv9 (Conv2D)               (None, 3, 3, 128)         65664     \n",
      "_________________________________________________________________\n",
      "conv10 (Conv2D)              (None, 2, 2, 256)         131328    \n",
      "_________________________________________________________________\n",
      "conv11 (Conv2D)              (None, 1, 1, 296)         303400    \n",
      "_________________________________________________________________\n",
      "flatten_1 (Flatten)          (None, 296)               0         \n",
      "_________________________________________________________________\n",
      "dropout_5 (Dropout)          (None, 296)               0         \n",
      "_________________________________________________________________\n",
      "dense_1 (Dense)              (None, 512)               152064    \n",
      "_________________________________________________________________\n",
      "dropout_6 (Dropout)          (None, 512)               0         \n",
      "_________________________________________________________________\n",
      "dense_2 (Dense)              (None, 128)               65664     \n",
      "_________________________________________________________________\n",
      "dropout_7 (Dropout)          (None, 128)               0         \n",
      "_________________________________________________________________\n",
      "dense_3 (Dense)              (None, 64)                8256      \n",
      "_________________________________________________________________\n",
      "dropout_8 (Dropout)          (None, 64)                0         \n",
      "_________________________________________________________________\n",
      "dense_4 (Dense)              (None, 26)                1690      \n",
      "=================================================================\n",
      "Total params: 796,786\n",
      "Trainable params: 796,786\n",
      "Non-trainable params: 0\n",
      "_________________________________________________________________\n"
     ]
    }
   ],
   "source": [
    "#convnet = make_convnet(input_shape, n_class, width=8, dropout=0)\n",
    "convnet = load_model('test_convnet.h5')\n",
    "convnet.summary()"
   ]
  },
  {
   "cell_type": "code",
   "execution_count": 6,
   "metadata": {},
   "outputs": [],
   "source": [
    "#history = train_convnet(convnet, tg, vg, directory, verbose=True, loss_obj=loss_tracker, epochs=10)"
   ]
  },
  {
   "cell_type": "code",
   "execution_count": 7,
   "metadata": {},
   "outputs": [],
   "source": [
    "#plot_history(history)"
   ]
  },
  {
   "cell_type": "code",
   "execution_count": 8,
   "metadata": {},
   "outputs": [
    {
     "name": "stdout",
     "output_type": "stream",
     "text": [
      "\n",
      "quizzing best accuracy model...\n",
      "\n",
      "Quiz results: 30 out of 380 correct.\n",
      "Quiz accuracy score: 0.079. Error rate: 0.921\n",
      "Classification results: 24 out of 380 correct.\n",
      "Classification accuracy score: 0.063. Error rate: 0.937\n",
      "\n",
      "quizzing best loss model...\n",
      "\n",
      "Quiz results: 29 out of 380 correct.\n",
      "Quiz accuracy score: 0.076. Error rate: 0.924\n",
      "Classification results: 27 out of 380 correct.\n",
      "Classification accuracy score: 0.071. Error rate: 0.929\n",
      "\n",
      "quizzing best overfit model...\n",
      "\n",
      "Quiz results: 19 out of 380 correct.\n",
      "Quiz accuracy score: 0.05. Error rate: 0.95\n",
      "Classification results: 17 out of 380 correct.\n",
      "Classification accuracy score: 0.045. Error rate: 0.955\n"
     ]
    }
   ],
   "source": [
    "results1, results2, results3 = quiz_models(directory, test, labels)"
   ]
  },
  {
   "cell_type": "code",
   "execution_count": 9,
   "metadata": {},
   "outputs": [
    {
     "data": {
      "image/png": "[encoded data removed]",
      "text/plain": [
       "<Figure size 576x576 with 25 Axes>"
      ]
     },
     "metadata": {},
     "output_type": "display_data"
    },
    {
     "data": {
      "image/png": "[encoded data removed]",
      "text/plain": [
       "<Figure size 576x576 with 25 Axes>"
      ]
     },
     "metadata": {},
     "output_type": "display_data"
    },
    {
     "name": "stdout",
     "output_type": "stream",
     "text": [
      "Quiz results: 194 out of 380 correct.\n",
      "Quiz accuracy score: 0.511. Error rate: 0.489\n",
      "Classification results: 161 out of 380 correct.\n",
      "Classification accuracy score: 0.424. Error rate: 0.576\n"
     ]
    }
   ],
   "source": [
    "prediction = quiz(convnet, test, labels, visualize=True, train_df=train)"
   ]
  },
  {
   "cell_type": "code",
   "execution_count": null,
   "metadata": {},
   "outputs": [],
   "source": []
  },
  {
   "cell_type": "code",
   "execution_count": 10,
   "metadata": {},
   "outputs": [
    {
     "name": "stdout",
     "output_type": "stream",
     "text": [
      "WARNING:tensorflow:From /home/alliedtoasters/projects/omniglot/capsulelayers.py:137: calling softmax (from tensorflow.python.ops.nn_ops) with dim is deprecated and will be removed in a future version.\n",
      "Instructions for updating:\n",
      "dim is deprecated, use axis instead\n"
     ]
    }
   ],
   "source": [
    "capsnet, eval_model, manipulate_model = make_capsnet(input_shape, n_class, routings, reconstruction_loss)"
   ]
  },
  {
   "cell_type": "code",
   "execution_count": 12,
   "metadata": {},
   "outputs": [
    {
     "data": {
      "text/plain": [
       "[<tf.Tensor 'capsnet/Sqrt:0' shape=(?, 26) dtype=float32>,\n",
       " <tf.Tensor 'decoder/out_recon/Reshape:0' shape=(?, 105, 105, 1) dtype=float32>]"
      ]
     },
     "execution_count": 12,
     "metadata": {},
     "output_type": "execute_result"
    }
   ],
   "source": [
    "capsnet.outputs"
   ]
  },
  {
   "cell_type": "code",
   "execution_count": null,
   "metadata": {},
   "outputs": [],
   "source": [
    "loss_tracker = LossTracker(scale_by=3)\n",
    "tg = train_gen(train, labels, batch_size=batch_size, augmentation=True, loss_obj=loss_tracker)\n",
    "vg = val_gen(test, labels, batch_size=batch_size)\n",
    "history = train_capsnet(capsnet, tg, vg, directory, verbose=True, loss_obj=loss_tracker)"
   ]
  },
  {
   "cell_type": "code",
   "execution_count": null,
   "metadata": {},
   "outputs": [],
   "source": [
    "results_caps1, results_caps2, results_caps3 = quiz_models(directory, test, labels, capsnet=True)"
   ]
  },
  {
   "cell_type": "code",
   "execution_count": null,
   "metadata": {},
   "outputs": [],
   "source": [
    "manipulate_model.set_weights(capsnet.get_weights())\n",
    "eval_model.set_weights(capsnet.get_weights())"
   ]
  },
  {
   "cell_type": "code",
   "execution_count": null,
   "metadata": {},
   "outputs": [],
   "source": [
    "test.loc[[5, 10, 12]].label"
   ]
  },
  {
   "cell_type": "code",
   "execution_count": null,
   "metadata": {},
   "outputs": [],
   "source": [
    "def plot_training_characters(train):\n",
    "    \"\"\"Plots the training characters for presentation\"\"\"\n",
    "    \n",
    "\n",
    "def plot_outputs(model, val_gen, test):\n",
    "    \"\"\"Looks at outputs of capsnet.\"\"\"\n",
    "    fig, ax = plt.subplots()\n",
    "    for i in range(20):\n",
    "        X, Y = next(val_gen)\n",
    "        Y_pred, reconstructed = model.predict(X)\n",
    "        img = X[0, :, :, 0]\n",
    "        plt.title('input character (label {})'.format(np.argmax(Y[0, :])));\n",
    "        plt.imshow(img, cmap='Greys_r');\n",
    "        plt.show();\n",
    "        plt.title('reconstructed character (predicted label {})'.format(np.argmax(Y_pred[0, :])));\n",
    "        plt.imshow(reconstructed[0, :, :, 0], cmap='Greys_r');\n",
    "        plt.show();\n",
    "    return\n",
    "\n",
    "plot_outputs(eval_model, vg, test)"
   ]
  },
  {
   "cell_type": "code",
   "execution_count": null,
   "metadata": {},
   "outputs": [],
   "source": [
    "eval_model.outputs"
   ]
  },
  {
   "cell_type": "code",
   "execution_count": null,
   "metadata": {},
   "outputs": [],
   "source": [
    "np.argmax(np.array([\n",
    "    [0, 0, 0],\n",
    "    [1, 1, 1]\n",
    "]), axis=0)"
   ]
  },
  {
   "cell_type": "code",
   "execution_count": null,
   "metadata": {},
   "outputs": [],
   "source": []
  }
 ],
 "metadata": {
  "kernelspec": {
   "display_name": "Python [conda env:dev1]",
   "language": "python",
   "name": "conda-env-dev1-py"
  },
  "language_info": {
   "codemirror_mode": {
    "name": "ipython",
    "version": 3
   },
   "file_extension": ".py",
   "mimetype": "text/x-python",
   "name": "python",
   "nbconvert_exporter": "python",
   "pygments_lexer": "ipython3",
   "version": "3.6.4"
  }
 },
 "nbformat": 4,
 "nbformat_minor": 2
}
